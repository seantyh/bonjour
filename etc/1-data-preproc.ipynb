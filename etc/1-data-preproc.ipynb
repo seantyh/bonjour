{
 "cells": [
  {
   "cell_type": "markdown",
   "metadata": {},
   "source": [
    "# MC4-tw Data Preprocess"
   ]
  },
  {
   "cell_type": "code",
   "execution_count": 1,
   "metadata": {},
   "outputs": [],
   "source": [
    "import gzip\n",
    "import json\n",
    "from tqdm.auto import tqdm\n",
    "import re\n",
    "from collections import Counter\n",
    "from urllib.parse import urlparse"
   ]
  },
  {
   "cell_type": "markdown",
   "metadata": {},
   "source": [
    "available at [Link](https://drive.google.com/drive/folders/1zXabzDGmwJ_ogv7RcqyI8cK6LZNi1acg?usp=sharing)\n",
    "```\n",
    "Input Hash\n",
    "0ba597 *../data/mc4_trad_chinese_train_000_of_16.jsonl.gz\n",
    "```"
   ]
  },
  {
   "cell_type": "code",
   "execution_count": 9,
   "metadata": {},
   "outputs": [
    {
     "name": "stdout",
     "output_type": "stream",
     "text": [
      "0ba5972511b71004b2e6e6a5a3d0c6e14eb3f9a8 *../data/mc4_trad_chinese_train_000_of_16.jsonl.gz\n"
     ]
    }
   ],
   "source": [
    "!sha1sum ../data/mc4_trad_chinese_train_000_of_16.jsonl.gz"
   ]
  },
  {
   "cell_type": "code",
   "execution_count": 2,
   "metadata": {},
   "outputs": [
    {
     "data": {
      "application/vnd.jupyter.widget-view+json": {
       "model_id": "d5166cdb8993442088a76e75aadf010d",
       "version_major": 2,
       "version_minor": 0
      },
      "text/plain": [
       "0it [00:00, ?it/s]"
      ]
     },
     "metadata": {},
     "output_type": "display_data"
    }
   ],
   "source": [
    "data_path = \"../data/mc4_trad_chinese_train_000_of_16.jsonl.gz\"\n",
    "data = []\n",
    "with gzip.open(data_path, \"rt\", encoding=\"UTF-8\") as fin:\n",
    "  for ln in tqdm(fin):\n",
    "    obj = json.loads(ln)\n",
    "    url = obj[\"url\"]\n",
    "    if \".tw/\" in url or \"/tw.\" in url:\n",
    "      data.append(obj)\n"
   ]
  },
  {
   "cell_type": "code",
   "execution_count": 3,
   "metadata": {},
   "outputs": [
    {
     "data": {
      "text/plain": [
       "63975"
      ]
     },
     "execution_count": 3,
     "metadata": {},
     "output_type": "execute_result"
    }
   ],
   "source": [
    "len(data)"
   ]
  },
  {
   "cell_type": "markdown",
   "metadata": {},
   "source": [
    "## Distribution of TLDs"
   ]
  },
  {
   "cell_type": "code",
   "execution_count": 4,
   "metadata": {},
   "outputs": [
    {
     "data": {
      "text/plain": [
       "[('com', 35371),\n",
       " ('(na)', 13257),\n",
       " ('edu', 2620),\n",
       " ('org', 2014),\n",
       " ('gov', 1602),\n",
       " ('idv', 742),\n",
       " ('taaze', 499),\n",
       " ('fingermedia', 349),\n",
       " ('qmap', 326),\n",
       " ('net', 270)]"
      ]
     },
     "execution_count": 4,
     "metadata": {},
     "output_type": "execute_result"
    }
   ],
   "source": [
    "\n",
    "def get_domain(url):\n",
    "  hostname = urlparse(url).hostname\n",
    "  if not hostname: return \"(na)\"\n",
    "\n",
    "  mat = re.findall(r\"\\.([\\w]+)\\.tw\", hostname)\n",
    "  if mat:\n",
    "    return mat[0]\n",
    "  else:\n",
    "    return \"(na)\"\n",
    "Counter((get_domain(x[\"url\"]) for x in data)).most_common(10)"
   ]
  },
  {
   "cell_type": "markdown",
   "metadata": {},
   "source": [
    "## Selecting target TLDs"
   ]
  },
  {
   "cell_type": "code",
   "execution_count": 5,
   "metadata": {},
   "outputs": [],
   "source": [
    "proc_data = []\n",
    "tlds_counter = Counter()\n",
    "for item_x in data:\n",
    "  tlds = get_domain(item_x[\"url\"])\n",
    "  if tlds in (\"com\", \"edu\", \"org\", \"gov\") \\\n",
    "      and tlds_counter[tlds] < 1500:\n",
    "    proc_data.append({\"tlds\": tlds, **item_x})\n",
    "    tlds_counter[tlds] += 1\n"
   ]
  },
  {
   "cell_type": "code",
   "execution_count": 6,
   "metadata": {},
   "outputs": [
    {
     "data": {
      "text/plain": [
       "Counter({'com': 1500, 'org': 1500, 'edu': 1500, 'gov': 1500})"
      ]
     },
     "execution_count": 6,
     "metadata": {},
     "output_type": "execute_result"
    }
   ],
   "source": [
    "Counter(x[\"tlds\"] for x in proc_data)"
   ]
  },
  {
   "cell_type": "markdown",
   "metadata": {},
   "source": [
    "## Writing out"
   ]
  },
  {
   "cell_type": "code",
   "execution_count": 7,
   "metadata": {},
   "outputs": [],
   "source": [
    "with open(\"../data/tlds_data_mc4_tw_000.json\", \"w\", encoding=\"UTF-8\") as fout:\n",
    "  json.dump(proc_data, fout, ensure_ascii=False, indent=2)"
   ]
  },
  {
   "cell_type": "markdown",
   "metadata": {},
   "source": [
    "```\n",
    "Output Hash\n",
    "4727bb *../data/tlds_data_mc4_tw_000.json\n",
    "```"
   ]
  },
  {
   "cell_type": "code",
   "execution_count": 8,
   "metadata": {},
   "outputs": [
    {
     "name": "stdout",
     "output_type": "stream",
     "text": [
      "4727bb8285d8a0c0b9761de958ebfbd29c337a0e *../data/tlds_data_mc4_tw_000.json\n"
     ]
    }
   ],
   "source": [
    "!sha1sum ../data/tlds_data_mc4_tw_000.json"
   ]
  },
  {
   "cell_type": "code",
   "execution_count": null,
   "metadata": {},
   "outputs": [],
   "source": []
  }
 ],
 "metadata": {
  "kernelspec": {
   "display_name": "Python 3.10.2 64-bit",
   "language": "python",
   "name": "python3"
  },
  "language_info": {
   "codemirror_mode": {
    "name": "ipython",
    "version": 3
   },
   "file_extension": ".py",
   "mimetype": "text/x-python",
   "name": "python",
   "nbconvert_exporter": "python",
   "pygments_lexer": "ipython3",
   "version": "3.10.2"
  },
  "orig_nbformat": 4,
  "vscode": {
   "interpreter": {
    "hash": "369f2c481f4da34e4445cda3fffd2e751bd1c4d706f27375911949ba6bb62e1c"
   }
  }
 },
 "nbformat": 4,
 "nbformat_minor": 2
}
