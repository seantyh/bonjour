{
 "cells": [
  {
   "cell_type": "markdown",
   "metadata": {},
   "source": [
    "# MC4-tw Data Preprocess"
   ]
  },
  {
   "cell_type": "code",
   "execution_count": 10,
   "metadata": {},
   "outputs": [],
   "source": [
    "import gzip\n",
    "import json\n",
    "from tqdm.auto import tqdm\n",
    "import re\n",
    "from collections import Counter\n",
    "from urllib.parse import urlparse"
   ]
  },
  {
   "cell_type": "code",
   "execution_count": 11,
   "metadata": {},
   "outputs": [
    {
     "name": "stdout",
     "output_type": "stream",
     "text": [
      "0ba5972511b71004b2e6e6a5a3d0c6e14eb3f9a8 *../data/mc4_trad_chinese_train_000_of_16.jsonl.gz\n"
     ]
    }
   ],
   "source": [
    "# 0ba597 *../data/mc4_trad_chinese_train_000_of_16.jsonl.gz\n",
    "# available at https://drive.google.com/drive/folders/1zXabzDGmwJ_ogv7RcqyI8cK6LZNi1acg?usp=sharing\n",
    "!sha1sum ../data/mc4_trad_chinese_train_000_of_16.jsonl.gz"
   ]
  },
  {
   "cell_type": "code",
   "execution_count": 12,
   "metadata": {},
   "outputs": [
    {
     "data": {
      "application/vnd.jupyter.widget-view+json": {
       "model_id": "f5948df1de204c998085fd0adba339f4",
       "version_major": 2,
       "version_minor": 0
      },
      "text/plain": [
       "0it [00:00, ?it/s]"
      ]
     },
     "metadata": {},
     "output_type": "display_data"
    }
   ],
   "source": [
    "data_path = \"../data/mc4_trad_chinese_train_000_of_16.jsonl.gz\"\n",
    "data = []\n",
    "with gzip.open(data_path, \"rt\", encoding=\"UTF-8\") as fin:\n",
    "  for ln in tqdm(fin):\n",
    "    obj = json.loads(ln)\n",
    "    url = obj[\"url\"]\n",
    "    if \".tw/\" in url or \"/tw.\" in url:\n",
    "      data.append(obj)\n"
   ]
  },
  {
   "cell_type": "code",
   "execution_count": 13,
   "metadata": {},
   "outputs": [
    {
     "data": {
      "text/plain": [
       "63975"
      ]
     },
     "execution_count": 13,
     "metadata": {},
     "output_type": "execute_result"
    }
   ],
   "source": [
    "len(data)"
   ]
  },
  {
   "cell_type": "markdown",
   "metadata": {},
   "source": [
    "## Distribution of TLDs"
   ]
  },
  {
   "cell_type": "code",
   "execution_count": 14,
   "metadata": {},
   "outputs": [
    {
     "data": {
      "text/plain": [
       "[('com', 35371),\n",
       " ('(na)', 13257),\n",
       " ('edu', 2620),\n",
       " ('org', 2014),\n",
       " ('gov', 1602),\n",
       " ('idv', 742),\n",
       " ('taaze', 499),\n",
       " ('fingermedia', 349),\n",
       " ('qmap', 326),\n",
       " ('net', 270)]"
      ]
     },
     "execution_count": 14,
     "metadata": {},
     "output_type": "execute_result"
    }
   ],
   "source": [
    "\n",
    "def get_domain(url):\n",
    "  hostname = urlparse(url).hostname\n",
    "  if not hostname: return \"(na)\"\n",
    "\n",
    "  mat = re.findall(r\"\\.([\\w]+)\\.tw\", hostname)\n",
    "  if mat:\n",
    "    return mat[0]\n",
    "  else:\n",
    "    return \"(na)\"\n",
    "Counter((get_domain(x[\"url\"]) for x in data)).most_common(10)"
   ]
  },
  {
   "cell_type": "markdown",
   "metadata": {},
   "source": [
    "## Selecting target TLDs"
   ]
  },
  {
   "cell_type": "code",
   "execution_count": 15,
   "metadata": {},
   "outputs": [],
   "source": [
    "proc_data = []\n",
    "tlds_counter = Counter()\n",
    "for item_x in data:\n",
    "  tld = get_domain(item_x[\"url\"])  \n",
    "  if tld == (\"(na)\"):\n",
    "    continue  \n",
    "  elif tld in (\"com\", \"edu\", \"org\", \"gov\") \\\n",
    "      and tlds_counter[tld] < 250:\n",
    "    proc_data.append({\"tld\": tld, **item_x})\n",
    "    tlds_counter[tld] += 1\n",
    "  else:\n",
    "      if tlds_counter[\"other\"] < 200:\n",
    "        pass\n",
    "        # tlds_counter[\"other\"] += 1\n",
    "        # proc_data.append({\"tld\": \"other\", **item_x})\n"
   ]
  },
  {
   "cell_type": "code",
   "execution_count": 16,
   "metadata": {},
   "outputs": [
    {
     "data": {
      "text/plain": [
       "Counter({'com': 250, 'org': 250, 'edu': 250, 'gov': 250})"
      ]
     },
     "execution_count": 16,
     "metadata": {},
     "output_type": "execute_result"
    }
   ],
   "source": [
    "Counter(x[\"tld\"] for x in proc_data)"
   ]
  },
  {
   "cell_type": "markdown",
   "metadata": {},
   "source": [
    "## Writing out"
   ]
  },
  {
   "cell_type": "code",
   "execution_count": 17,
   "metadata": {},
   "outputs": [],
   "source": [
    "with open(\"../data/tlds_data_mc4_tw_000.json\", \"w\", encoding=\"UTF-8\") as fout:\n",
    "  json.dump(proc_data, fout, ensure_ascii=False, indent=2)"
   ]
  },
  {
   "cell_type": "code",
   "execution_count": 18,
   "metadata": {},
   "outputs": [
    {
     "name": "stdout",
     "output_type": "stream",
     "text": [
      "7943edf15019216fb6016368eb675c7f21c33dd6 *../data/tlds_data_mc4_tw_000.json\n"
     ]
    }
   ],
   "source": [
    "# 7943ed *../data/tlds_data_mc4_tw_000.json\n",
    "!sha1sum ../data/tlds_data_mc4_tw_000.json"
   ]
  },
  {
   "cell_type": "code",
   "execution_count": null,
   "metadata": {},
   "outputs": [],
   "source": []
  }
 ],
 "metadata": {
  "kernelspec": {
   "display_name": "Python 3.10.2 64-bit",
   "language": "python",
   "name": "python3"
  },
  "language_info": {
   "codemirror_mode": {
    "name": "ipython",
    "version": 3
   },
   "file_extension": ".py",
   "mimetype": "text/x-python",
   "name": "python",
   "nbconvert_exporter": "python",
   "pygments_lexer": "ipython3",
   "version": "3.10.2"
  },
  "orig_nbformat": 4,
  "vscode": {
   "interpreter": {
    "hash": "369f2c481f4da34e4445cda3fffd2e751bd1c4d706f27375911949ba6bb62e1c"
   }
  }
 },
 "nbformat": 4,
 "nbformat_minor": 2
}
