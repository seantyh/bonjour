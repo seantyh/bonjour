{
 "cells": [
  {
   "cell_type": "code",
   "execution_count": 1,
   "id": "7c6b1987-b741-4267-831a-a9982ed92a48",
   "metadata": {},
   "outputs": [],
   "source": [
    "import json\n",
    "from pathlib import Path\n",
    "from gensim.models import Word2Vec"
   ]
  },
  {
   "cell_type": "code",
   "execution_count": 2,
   "id": "4774d672-cef8-4a9e-a538-292e4782aece",
   "metadata": {},
   "outputs": [
    {
     "name": "stdout",
     "output_type": "stream",
     "text": [
      "Load from file cache\n"
     ]
    }
   ],
   "source": [
    "nlp_path = Path(\"../data/tlds_data_mc4_tw_000.nlp.json\")\n",
    "if nlp_path.exists():\n",
    "    print(\"Load from file cache\")\n",
    "    data = json.loads(nlp_path.read_text())"
   ]
  },
  {
   "cell_type": "code",
   "execution_count": 3,
   "id": "7fee678f-d69f-4301-b895-fbbf12daadaa",
   "metadata": {},
   "outputs": [
    {
     "name": "stdout",
     "output_type": "stream",
     "text": [
      "[['頂級', 'A'], ['手鐲料', 'Na'], ['淡綠色', 'Na'], ['豆種', 'Na'], ['緬甸玉', 'Na'], ['翡翠', 'Na'], ['開運', 'Nd'], ['印章', 'Na'], ['臍帶', 'Na'], ['印章', 'Na']]\n"
     ]
    }
   ],
   "source": [
    "print(data[0][\"nlp\"][:10])"
   ]
  },
  {
   "cell_type": "code",
   "execution_count": 4,
   "id": "8d4e5350-c37a-4f81-9d58-f49997412caa",
   "metadata": {},
   "outputs": [],
   "source": [
    "docs = []\n",
    "for item_x in data:\n",
    "    seq_x = []\n",
    "    for tok_x in item_x[\"nlp\"]:\n",
    "        seq_x.append(f\"{tok_x[0]}.{tok_x[1]}\")\n",
    "    docs.append(seq_x)"
   ]
  },
  {
   "cell_type": "code",
   "execution_count": 5,
   "id": "22a31a47-9309-4723-912e-cdd5d53c6ee3",
   "metadata": {},
   "outputs": [
    {
     "data": {
      "text/plain": [
       "(1000,\n",
       " ['頂級.A',\n",
       "  '手鐲料.Na',\n",
       "  '淡綠色.Na',\n",
       "  '豆種.Na',\n",
       "  '緬甸玉.Na',\n",
       "  '翡翠.Na',\n",
       "  '開運.Nd',\n",
       "  '印章.Na',\n",
       "  '臍帶.Na',\n",
       "  '印章.Na'])"
      ]
     },
     "execution_count": 5,
     "metadata": {},
     "output_type": "execute_result"
    }
   ],
   "source": [
    "len(docs), docs[0][:10]"
   ]
  },
  {
   "cell_type": "code",
   "execution_count": 6,
   "id": "b37bf90f-94ef-4360-af5e-f42a6d6b387d",
   "metadata": {},
   "outputs": [
    {
     "name": "stdout",
     "output_type": "stream",
     "text": [
      "CPU times: total: 406 ms\n",
      "Wall time: 546 ms\n"
     ]
    }
   ],
   "source": [
    "%%time\n",
    "w2v_model = Word2Vec(docs)"
   ]
  },
  {
   "cell_type": "code",
   "execution_count": 7,
   "id": "06621f94-f0d5-457a-acfb-a1b91b940b1b",
   "metadata": {},
   "outputs": [
    {
     "data": {
      "text/plain": [
       "[('寶寶.Na', 0.9979808330535889),\n",
       " ('婚禮.Na', 0.9973534941673279),\n",
       " ('香菇.Na', 0.9973424077033997),\n",
       " ('頂級.A', 0.9973317384719849),\n",
       " ('達人.Na', 0.9972850680351257),\n",
       " ('配件.Na', 0.9972473978996277),\n",
       " ('精選.VC', 0.9972197413444519),\n",
       " ('專線.Na', 0.9971712231636047),\n",
       " ('時尚.Na', 0.997072160243988),\n",
       " ('大賞.Na', 0.996990978717804)]"
      ]
     },
     "execution_count": 7,
     "metadata": {},
     "output_type": "execute_result"
    }
   ],
   "source": [
    "w2v_model.wv.most_similar(\"印章.Na\")"
   ]
  },
  {
   "cell_type": "code",
   "execution_count": 8,
   "id": "a1b446e2-7dae-43db-a337-0daa53a4578b",
   "metadata": {},
   "outputs": [
    {
     "data": {
      "text/plain": [
       "7961"
      ]
     },
     "execution_count": 8,
     "metadata": {},
     "output_type": "execute_result"
    }
   ],
   "source": [
    "vocab = w2v_model.wv.index_to_key\n",
    "len(vocab)"
   ]
  },
  {
   "cell_type": "code",
   "execution_count": 9,
   "id": "989f7fd3-cbea-48bf-ab12-430b31a27279",
   "metadata": {},
   "outputs": [],
   "source": [
    "lemmas = {}\n",
    "for word_x in vocab:\n",
    "    lemma_x, pos_x = word_x.split(\".\")\n",
    "    if lemma_x in lemmas:\n",
    "        lemmas[lemma_x].append(word_x)\n",
    "    else:\n",
    "        lemmas[lemma_x] = [word_x]    "
   ]
  },
  {
   "cell_type": "code",
   "execution_count": 47,
   "id": "ab22b423-c157-4a91-8e42-bcb48fca42fe",
   "metadata": {},
   "outputs": [
    {
     "data": {
      "text/plain": [
       "'可以 教學 生活 服務 學習 計畫 辦理 中心 工作 使用 發展 專業 進行 教授 協助 健康 參與 參加 研究 安全'"
      ]
     },
     "execution_count": 47,
     "metadata": {},
     "output_type": "execute_result"
    }
   ],
   "source": [
    "multi_pos_words = []\n",
    "for lemma_x, words in lemmas.items():\n",
    "    if len(words)>1 and len(lemma_x)>1:\n",
    "        multi_pos_words.append(lemma_x)\n",
    "\" \".join(multi_pos_words[:20])"
   ]
  },
  {
   "cell_type": "code",
   "execution_count": 48,
   "id": "937176cd-f4d4-48a8-8b0a-d7cd2c47e25d",
   "metadata": {},
   "outputs": [
    {
     "name": "stdout",
     "output_type": "stream",
     "text": [
      "發展.VC : 服務.VC 技術.Na 推動.VC 合作.VH 人才.Na 人文.Na 專業.VH 創新.VC 協盟.Na 產業.Na\n",
      "發展.Nv : 原住民族.Na 投資.VC 法規.Na 行銷.Na 農業.Na 都市.Na 工業.Na 設立.VC 貿易.Na 我國.Nc\n",
      "發展.Na : 觀光.VA 能源.Na 法律.Na 媒體.Na 華人.Na 生態.Na 消費.Na 青年.Na 執行長.Na 和平.VH\n"
     ]
    }
   ],
   "source": [
    "target = \"發展\"\n",
    "for word_x in lemmas[target]:\n",
    "    neigh_words = []\n",
    "    for neigh_x in w2v_model.wv.most_similar(word_x):\n",
    "        neigh_words.append(neigh_x[0])\n",
    "    print(word_x, \":\", \" \".join(neigh_words))"
   ]
  },
  {
   "cell_type": "code",
   "execution_count": null,
   "id": "cdd8c101-9b5f-4578-b19f-82215681c142",
   "metadata": {},
   "outputs": [],
   "source": []
  }
 ],
 "metadata": {
  "kernelspec": {
   "display_name": "Python 3 (ipykernel)",
   "language": "python",
   "name": "python3"
  },
  "language_info": {
   "codemirror_mode": {
    "name": "ipython",
    "version": 3
   },
   "file_extension": ".py",
   "mimetype": "text/x-python",
   "name": "python",
   "nbconvert_exporter": "python",
   "pygments_lexer": "ipython3",
   "version": "3.10.2"
  }
 },
 "nbformat": 4,
 "nbformat_minor": 5
}
