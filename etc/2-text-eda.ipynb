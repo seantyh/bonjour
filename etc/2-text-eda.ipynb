{
 "cells": [
  {
   "cell_type": "code",
   "execution_count": 14,
   "metadata": {},
   "outputs": [
    {
     "name": "stdout",
     "output_type": "stream",
     "text": [
      "7943edf15019216fb6016368eb675c7f21c33dd6 *../data/tlds_data_mc4_tw_000.json\n"
     ]
    }
   ],
   "source": [
    "# 7943ed ../data/tlds_data_mc4_tw_000.json\n",
    "!sha1sum ../data/tlds_data_mc4_tw_000.json"
   ]
  },
  {
   "cell_type": "code",
   "execution_count": 15,
   "metadata": {},
   "outputs": [
    {
     "data": {
      "text/plain": [
       "1000"
      ]
     },
     "execution_count": 15,
     "metadata": {},
     "output_type": "execute_result"
    }
   ],
   "source": [
    "from pathlib import Path\n",
    "import json\n",
    "data = json.loads(Path(\"../data/tlds_data_mc4_tw_000.json\").read_text(encoding=\"UTF-8\"))\n",
    "len(data)"
   ]
  },
  {
   "cell_type": "markdown",
   "metadata": {},
   "source": [
    "## Simple tokens"
   ]
  },
  {
   "cell_type": "code",
   "execution_count": 16,
   "metadata": {},
   "outputs": [
    {
     "data": {
      "application/vnd.jupyter.widget-view+json": {
       "model_id": "02f752a899f349d5ae59ef798c7ea63d",
       "version_major": 2,
       "version_minor": 0
      },
      "text/plain": [
       "  0%|          | 0/1000 [00:00<?, ?it/s]"
      ]
     },
     "metadata": {},
     "output_type": "display_data"
    }
   ],
   "source": [
    "import re\n",
    "from tqdm.auto import tqdm\n",
    "from collections import Counter\n",
    "\n",
    "tok_pat = re.compile(r\"[a-zA-Z0-9./%<>]+|[^\\s\\x00-\\x31]\")\n",
    "tok_freq = Counter()\n",
    "for data_x in tqdm(data):\n",
    "  toks = tok_pat.findall(data_x[\"text\"])\n",
    "  tok_freq.update(toks)"
   ]
  },
  {
   "cell_type": "code",
   "execution_count": 17,
   "metadata": {},
   "outputs": [
    {
     "data": {
      "text/plain": [
       "14334"
      ]
     },
     "execution_count": 17,
     "metadata": {},
     "output_type": "execute_result"
    }
   ],
   "source": [
    "len(tok_freq)"
   ]
  },
  {
   "cell_type": "code",
   "execution_count": 18,
   "metadata": {},
   "outputs": [
    {
     "data": {
      "text/plain": [
       "[('的', 11919),\n",
       " ('一', 4034),\n",
       " ('人', 3949),\n",
       " ('學', 3925),\n",
       " ('是', 3389),\n",
       " ('會', 3376),\n",
       " ('大', 3241),\n",
       " ('國', 3206),\n",
       " ('有', 3055),\n",
       " ('年', 3012)]"
      ]
     },
     "execution_count": 18,
     "metadata": {},
     "output_type": "execute_result"
    }
   ],
   "source": [
    "[(tok,freq) for tok, freq in tok_freq.most_common() if re.match(\"[一-龜]\", tok)][:10]"
   ]
  },
  {
   "cell_type": "code",
   "execution_count": 19,
   "metadata": {},
   "outputs": [
    {
     "data": {
      "text/plain": [
       "[('10', 325),\n",
       " ('12', 303),\n",
       " ('11', 302),\n",
       " ('2019', 287),\n",
       " ('the', 276),\n",
       " ('...', 276),\n",
       " ('sqrt', 257),\n",
       " ('iPhone', 248),\n",
       " ('and', 236),\n",
       " ('30', 233)]"
      ]
     },
     "execution_count": 19,
     "metadata": {},
     "output_type": "execute_result"
    }
   ],
   "source": [
    "[(tok,freq) for tok, freq in tok_freq.most_common() if re.match(\".{2,}\", tok)][:10]"
   ]
  },
  {
   "cell_type": "code",
   "execution_count": 20,
   "metadata": {},
   "outputs": [
    {
     "data": {
      "text/plain": [
       "[('3.', 45),\n",
       " ('103', 45),\n",
       " ('170g', 44),\n",
       " ('220g', 44),\n",
       " ('50', 43),\n",
       " ('else', 43),\n",
       " ('TwBsBall', 42),\n",
       " ('you', 41),\n",
       " ('selected', 41),\n",
       " ('.length', 41)]"
      ]
     },
     "execution_count": 20,
     "metadata": {},
     "output_type": "execute_result"
    }
   ],
   "source": [
    "[(tok,freq) for tok, freq in tok_freq.most_common() if re.match(\".{2,}\", tok)][100:110]"
   ]
  },
  {
   "cell_type": "code",
   "execution_count": 21,
   "metadata": {},
   "outputs": [
    {
     "data": {
      "text/plain": [
       "[('📣', 8),\n",
       " ('🎯', 5),\n",
       " ('🌏', 4),\n",
       " ('🏃', 4),\n",
       " ('📢', 4),\n",
       " ('💡', 3),\n",
       " ('📍', 3),\n",
       " ('👉', 2),\n",
       " ('🗣', 2),\n",
       " ('🎤', 1)]"
      ]
     },
     "execution_count": 21,
     "metadata": {},
     "output_type": "execute_result"
    }
   ],
   "source": [
    "[(tok,freq) for tok, freq in tok_freq.most_common() if re.match(\"[\\U0001F300-\\U0001FAFF]\", tok)][:10]"
   ]
  },
  {
   "cell_type": "code",
   "execution_count": 22,
   "metadata": {},
   "outputs": [
    {
     "data": {
      "application/vnd.jupyter.widget-view+json": {
       "model_id": "a70c265f0cf04336ae8741ed5097303f",
       "version_major": 2,
       "version_minor": 0
      },
      "text/plain": [
       "  0%|          | 0/1000 [00:00<?, ?it/s]"
      ]
     },
     "metadata": {},
     "output_type": "display_data"
    }
   ],
   "source": [
    "from nltk.util import bigrams\n",
    "\n",
    "bg_freq = Counter()\n",
    "for data_x in tqdm(data):\n",
    "  toks = tok_pat.findall(data_x[\"text\"])\n",
    "  bgs = [\"\".join(x) for x in bigrams(toks)]\n",
    "  bg_freq.update(bgs)"
   ]
  },
  {
   "cell_type": "code",
   "execution_count": 23,
   "metadata": {},
   "outputs": [
    {
     "name": "stdout",
     "output_type": "stream",
     "text": [
      "['..', '我們', '台灣', '大學', '教育', '活動', '計畫', '，並', '國際', '可以', '教學', '」，', '服務', '一個', '研究', '資訊', '學生', '文化', '自己', '工作', '，但', '，以', '，我', '，不', '生活', '，也', '資料', '提供', '學習', '發展', '，在', '時間', '，這', '保護', '藝術', '後，', '政府', '因為', '第一', '使用', '社會', '時，', '科技', '中國', '：「', '，而', '沒有', '中心', '，讓', '學校', '環境', '辦理', '\\\\sqrt', '，因', '國小', '產業', '年度', '音樂', '個人', '臺灣', '他們', '以及', '。」', '台北', '就是', '教授', '這個', '國家', '經濟', '的人', '，就', '問題', '中，', '管理', '相關', '透過', '，他', '日期', 'sqrt{', '運動', '日本', '高雄', '專業', '玻璃', '設計', '世界', '國民', '人，', '所以', '什麼', '新聞', '表示', '瀏覽', '遊戲', '開始', '，一', '合作', '進行', '外，', '學計']\n"
     ]
    }
   ],
   "source": [
    "print([x[0] for x in bg_freq.most_common(100)], sep=\" \")"
   ]
  },
  {
   "cell_type": "markdown",
   "metadata": {},
   "source": [
    "## Cleaned dataset"
   ]
  },
  {
   "cell_type": "code",
   "execution_count": 24,
   "metadata": {},
   "outputs": [
    {
     "data": {
      "application/vnd.jupyter.widget-view+json": {
       "model_id": "cb42199add17471986e6ab38e358ed7f",
       "version_major": 2,
       "version_minor": 0
      },
      "text/plain": [
       "  0%|          | 0/1000 [00:00<?, ?it/s]"
      ]
     },
     "metadata": {},
     "output_type": "display_data"
    }
   ],
   "source": [
    "import re\n",
    "from tqdm.auto import tqdm\n",
    "from collections import Counter\n",
    "\n",
    "stop_pat = re.compile(r\"[^\\u3300-\\u9fff，。！？\\s]\")\n",
    "space_pat = re.compile(r\"\\s+\")\n",
    "ctok_freq = Counter()\n",
    "cleaned_data = []\n",
    "for data_x in tqdm(data):  \n",
    "  proc_text = stop_pat.sub(\"\", data_x[\"text\"])\n",
    "  data_x[\"text\"] = space_pat.sub(\" \", proc_text)\n",
    "  cleaned_data.append(data_x)  "
   ]
  },
  {
   "cell_type": "code",
   "execution_count": 25,
   "metadata": {},
   "outputs": [
    {
     "data": {
      "text/plain": [
       "713361"
      ]
     },
     "execution_count": 25,
     "metadata": {},
     "output_type": "execute_result"
    }
   ],
   "source": [
    "out_path = Path(\"../data/tlds_data_mc4_tw_000.zhonly.json\")\n",
    "out_path.write_text(json.dumps(cleaned_data, ensure_ascii=False, indent=2), encoding=\"UTF-8\")"
   ]
  },
  {
   "cell_type": "code",
   "execution_count": 26,
   "metadata": {},
   "outputs": [
    {
     "name": "stdout",
     "output_type": "stream",
     "text": [
      "fbcbc807c8c3b01b3b7b4e72f664e944ac444834 *../data/tlds_data_mc4_tw_000.zhonly.json\n"
     ]
    }
   ],
   "source": [
    "# fbcbc8 *../data/tlds_data_mc4_tw_000.zhonly.json\n",
    "!sha1sum ../data/tlds_data_mc4_tw_000.zhonly.json"
   ]
  },
  {
   "cell_type": "code",
   "execution_count": null,
   "metadata": {},
   "outputs": [],
   "source": []
  }
 ],
 "metadata": {
  "kernelspec": {
   "display_name": "Python 3.10.2 64-bit",
   "language": "python",
   "name": "python3"
  },
  "language_info": {
   "codemirror_mode": {
    "name": "ipython",
    "version": 3
   },
   "file_extension": ".py",
   "mimetype": "text/x-python",
   "name": "python",
   "nbconvert_exporter": "python",
   "pygments_lexer": "ipython3",
   "version": "3.10.2"
  },
  "orig_nbformat": 4,
  "vscode": {
   "interpreter": {
    "hash": "369f2c481f4da34e4445cda3fffd2e751bd1c4d706f27375911949ba6bb62e1c"
   }
  }
 },
 "nbformat": 4,
 "nbformat_minor": 2
}
