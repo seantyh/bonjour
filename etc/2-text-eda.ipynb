{
 "cells": [
  {
   "cell_type": "code",
   "execution_count": 1,
   "metadata": {},
   "outputs": [
    {
     "name": "stdout",
     "output_type": "stream",
     "text": [
      "a495865eb20822c8eac1f56f976ea7e0cca44f55 *../data/tlds_data_mc4_tw_000.json\n"
     ]
    }
   ],
   "source": [
    "# a49586 ../data/tlds_data_mc4_tw_000.json\n",
    "!sha1sum ../data/tlds_data_mc4_tw_000.json"
   ]
  },
  {
   "cell_type": "code",
   "execution_count": 2,
   "metadata": {},
   "outputs": [
    {
     "data": {
      "text/plain": [
       "8000"
      ]
     },
     "execution_count": 2,
     "metadata": {},
     "output_type": "execute_result"
    }
   ],
   "source": [
    "from pathlib import Path\n",
    "import json\n",
    "data = json.loads(Path(\"../data/tlds_data_mc4_tw_000.json\").read_text(encoding=\"UTF-8\"))\n",
    "len(data)"
   ]
  },
  {
   "cell_type": "markdown",
   "metadata": {},
   "source": [
    "## Simple tokens"
   ]
  },
  {
   "cell_type": "code",
   "execution_count": 3,
   "metadata": {},
   "outputs": [
    {
     "data": {
      "application/vnd.jupyter.widget-view+json": {
       "model_id": "c1924d7e59ff4f99822f31a11d25a07e",
       "version_major": 2,
       "version_minor": 0
      },
      "text/plain": [
       "  0%|          | 0/8000 [00:00<?, ?it/s]"
      ]
     },
     "metadata": {},
     "output_type": "display_data"
    }
   ],
   "source": [
    "import re\n",
    "from tqdm.auto import tqdm\n",
    "from collections import Counter\n",
    "\n",
    "tok_pat = re.compile(r\"[a-zA-Z0-9./%<>]+|[^\\s\\x00-\\x31]\")\n",
    "tok_freq = Counter()\n",
    "for data_x in tqdm(data):\n",
    "  toks = tok_pat.findall(data_x[\"text\"])\n",
    "  tok_freq.update(toks)"
   ]
  },
  {
   "cell_type": "code",
   "execution_count": 4,
   "metadata": {},
   "outputs": [
    {
     "data": {
      "text/plain": [
       "53696"
      ]
     },
     "execution_count": 4,
     "metadata": {},
     "output_type": "execute_result"
    }
   ],
   "source": [
    "len(tok_freq)"
   ]
  },
  {
   "cell_type": "code",
   "execution_count": 5,
   "metadata": {},
   "outputs": [
    {
     "data": {
      "text/plain": [
       "[('的', 88862),\n",
       " ('一', 30795),\n",
       " ('學', 27586),\n",
       " ('人', 27391),\n",
       " ('是', 25457),\n",
       " ('國', 24166),\n",
       " ('有', 23559),\n",
       " ('大', 22822),\n",
       " ('中', 22133),\n",
       " ('年', 21987)]"
      ]
     },
     "execution_count": 5,
     "metadata": {},
     "output_type": "execute_result"
    }
   ],
   "source": [
    "[(tok,freq) for tok, freq in tok_freq.most_common() if re.match(\"[一-龜]\", tok)][:10]"
   ]
  },
  {
   "cell_type": "code",
   "execution_count": 6,
   "metadata": {},
   "outputs": [
    {
     "data": {
      "text/plain": [
       "[('10', 3076),\n",
       " ('11', 2480),\n",
       " ('12', 2319),\n",
       " ('2019', 2099),\n",
       " ('...', 1977),\n",
       " ('2018', 1805),\n",
       " ('iPhone', 1775),\n",
       " ('00', 1695),\n",
       " ('the', 1540),\n",
       " ('30', 1470)]"
      ]
     },
     "execution_count": 6,
     "metadata": {},
     "output_type": "execute_result"
    }
   ],
   "source": [
    "[(tok,freq) for tok, freq in tok_freq.most_common() if re.match(\".{2,}\", tok)][:10]"
   ]
  },
  {
   "cell_type": "code",
   "execution_count": 7,
   "metadata": {},
   "outputs": [
    {
     "data": {
      "text/plain": [
       "[('XS', 280),\n",
       " ('Taiwan', 279),\n",
       " ('1A', 272),\n",
       " ('..', 271),\n",
       " ('false', 269),\n",
       " ('TwBsBall', 265),\n",
       " ('4.', 263),\n",
       " ('101', 257),\n",
       " ('else', 257),\n",
       " ('sqrt', 257)]"
      ]
     },
     "execution_count": 7,
     "metadata": {},
     "output_type": "execute_result"
    }
   ],
   "source": [
    "[(tok,freq) for tok, freq in tok_freq.most_common() if re.match(\".{2,}\", tok)][100:110]"
   ]
  },
  {
   "cell_type": "code",
   "execution_count": 8,
   "metadata": {},
   "outputs": [
    {
     "data": {
      "text/plain": [
       "[('👉', 21),\n",
       " ('🔸', 12),\n",
       " ('🌸', 11),\n",
       " ('📣', 10),\n",
       " ('📌', 6),\n",
       " ('🙋', 6),\n",
       " ('🎯', 5),\n",
       " ('🔥', 4),\n",
       " ('🌏', 4),\n",
       " ('🏃', 4)]"
      ]
     },
     "execution_count": 8,
     "metadata": {},
     "output_type": "execute_result"
    }
   ],
   "source": [
    "[(tok,freq) for tok, freq in tok_freq.most_common() if re.match(\"[\\U0001F300-\\U0001FAFF]\", tok)][:10]"
   ]
  },
  {
   "cell_type": "code",
   "execution_count": 9,
   "metadata": {},
   "outputs": [
    {
     "data": {
      "application/vnd.jupyter.widget-view+json": {
       "model_id": "95cb5aaa81874a959de0e16affdf6e30",
       "version_major": 2,
       "version_minor": 0
      },
      "text/plain": [
       "  0%|          | 0/8000 [00:00<?, ?it/s]"
      ]
     },
     "metadata": {},
     "output_type": "display_data"
    }
   ],
   "source": [
    "from nltk.util import bigrams\n",
    "\n",
    "bg_freq = Counter()\n",
    "for data_x in tqdm(data):\n",
    "  toks = tok_pat.findall(data_x[\"text\"])\n",
    "  bgs = [\"\".join(x) for x in bigrams(toks)]\n",
    "  bg_freq.update(bgs)"
   ]
  },
  {
   "cell_type": "code",
   "execution_count": 10,
   "metadata": {},
   "outputs": [
    {
     "name": "stdout",
     "output_type": "stream",
     "text": [
      "['台灣', '我們', '活動', '教育', '大學', '計畫', '可以', '教學', '服務', '，並', '國際', '一個', '工作', '學生', '公司', '資訊', '自己', '」，', '研究', '，但', '，也', '政府', '，以', '文化', '，我', '時間', '，不', '，在', '設計', '生活', '中心', '發展', '國小', '資料', '世界', '後，', '，這', '提供', '中國', '，而', '臺灣', '使用', '管理', '保護', '沒有', '，讓', '就是', '新聞', '第一', '台北', '因為', '經濟', '高雄', '學習', '科技', '學計', '相關', '畫表', '時，', '玻璃', '，因', '產業', '學校', '全球', '環境', '他們', '教授', '年度', '進行', '國家', '社會', '，一', '藝術', '美國', '，就', '問題', '中，', '企業', '日期', '這個', '..', '日本', '課程', '外，', '開始', '老師', '北市', '系統', '以及', '大家', '表示', '：「', '透過', '，他', '委員', '網路', '，是', '合作', '辦理', '安全']\n"
     ]
    }
   ],
   "source": [
    "print([x[0] for x in bg_freq.most_common(100)], sep=\" \")"
   ]
  },
  {
   "cell_type": "markdown",
   "metadata": {},
   "source": [
    "## Cleaned dataset"
   ]
  },
  {
   "cell_type": "code",
   "execution_count": 11,
   "metadata": {},
   "outputs": [
    {
     "data": {
      "application/vnd.jupyter.widget-view+json": {
       "model_id": "7c432b80d9854fa0bf87f96f29d9c4ae",
       "version_major": 2,
       "version_minor": 0
      },
      "text/plain": [
       "  0%|          | 0/8000 [00:00<?, ?it/s]"
      ]
     },
     "metadata": {},
     "output_type": "display_data"
    }
   ],
   "source": [
    "import re\n",
    "from tqdm.auto import tqdm\n",
    "from collections import Counter\n",
    "\n",
    "stop_pat = re.compile(r\"[^\\u3300-\\u9fff，。！？\\s]\")\n",
    "space_pat = re.compile(r\"\\s+\")\n",
    "ctok_freq = Counter()\n",
    "cleaned_data = []\n",
    "for data_x in tqdm(data):  \n",
    "  proc_text = stop_pat.sub(\"\", data_x[\"text\"])\n",
    "  data_x[\"text\"] = space_pat.sub(\" \", proc_text)\n",
    "  cleaned_data.append(data_x)  "
   ]
  },
  {
   "cell_type": "code",
   "execution_count": 12,
   "metadata": {},
   "outputs": [
    {
     "data": {
      "text/plain": [
       "5550906"
      ]
     },
     "execution_count": 12,
     "metadata": {},
     "output_type": "execute_result"
    }
   ],
   "source": [
    "out_path = Path(\"../data/tlds_data_mc4_tw_000.zhonly.json\")\n",
    "out_path.write_text(json.dumps(cleaned_data, ensure_ascii=False, indent=2), encoding=\"UTF-8\")"
   ]
  },
  {
   "cell_type": "code",
   "execution_count": 13,
   "metadata": {},
   "outputs": [
    {
     "name": "stdout",
     "output_type": "stream",
     "text": [
      "e43acb8fd8e44e8a149e3e25b37ca1734d7dee43 *../data/tlds_data_mc4_tw_000.zhonly.json\n"
     ]
    }
   ],
   "source": [
    "# e43acb *../data/tlds_data_mc4_tw_000.zhonly.json\n",
    "!sha1sum ../data/tlds_data_mc4_tw_000.zhonly.json"
   ]
  },
  {
   "cell_type": "code",
   "execution_count": null,
   "metadata": {},
   "outputs": [],
   "source": []
  }
 ],
 "metadata": {
  "kernelspec": {
   "display_name": "Python 3.10.2 64-bit",
   "language": "python",
   "name": "python3"
  },
  "language_info": {
   "codemirror_mode": {
    "name": "ipython",
    "version": 3
   },
   "file_extension": ".py",
   "mimetype": "text/x-python",
   "name": "python",
   "nbconvert_exporter": "python",
   "pygments_lexer": "ipython3",
   "version": "3.10.2"
  },
  "orig_nbformat": 4,
  "vscode": {
   "interpreter": {
    "hash": "369f2c481f4da34e4445cda3fffd2e751bd1c4d706f27375911949ba6bb62e1c"
   }
  }
 },
 "nbformat": 4,
 "nbformat_minor": 2
}
